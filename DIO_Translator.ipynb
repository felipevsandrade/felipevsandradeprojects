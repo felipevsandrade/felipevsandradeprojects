{
  "nbformat": 4,
  "nbformat_minor": 0,
  "metadata": {
    "colab": {
      "provenance": [],
      "toc_visible": true,
      "history_visible": true,
      "authorship_tag": "ABX9TyOdePQeg48otmn+JLcdYpFH",
      "include_colab_link": true
    },
    "kernelspec": {
      "name": "python3",
      "display_name": "Python 3"
    },
    "language_info": {
      "name": "python"
    }
  },
  "cells": [
    {
      "cell_type": "markdown",
      "metadata": {
        "id": "view-in-github",
        "colab_type": "text"
      },
      "source": [
        "<a href=\"https://colab.research.google.com/github/felipevsandrade/felipevsandradeprojects/blob/main/DIO_Translator.ipynb\" target=\"_parent\"><img src=\"https://colab.research.google.com/assets/colab-badge.svg\" alt=\"Open In Colab\"/></a>"
      ]
    },
    {
      "cell_type": "code",
      "source": [
        "!pip install requests python-docx"
      ],
      "metadata": {
        "colab": {
          "base_uri": "https://localhost:8080/"
        },
        "id": "imYJY_myPlmv",
        "outputId": "355c14aa-6671-4ff4-a523-c94b3a056320"
      },
      "execution_count": 3,
      "outputs": [
        {
          "output_type": "stream",
          "name": "stdout",
          "text": [
            "Requirement already satisfied: requests in /usr/local/lib/python3.10/dist-packages (2.32.3)\n",
            "Collecting python-docx\n",
            "  Downloading python_docx-1.1.2-py3-none-any.whl.metadata (2.0 kB)\n",
            "Requirement already satisfied: charset-normalizer<4,>=2 in /usr/local/lib/python3.10/dist-packages (from requests) (3.4.0)\n",
            "Requirement already satisfied: idna<4,>=2.5 in /usr/local/lib/python3.10/dist-packages (from requests) (3.10)\n",
            "Requirement already satisfied: urllib3<3,>=1.21.1 in /usr/local/lib/python3.10/dist-packages (from requests) (2.2.3)\n",
            "Requirement already satisfied: certifi>=2017.4.17 in /usr/local/lib/python3.10/dist-packages (from requests) (2024.8.30)\n",
            "Requirement already satisfied: lxml>=3.1.0 in /usr/local/lib/python3.10/dist-packages (from python-docx) (5.3.0)\n",
            "Requirement already satisfied: typing-extensions>=4.9.0 in /usr/local/lib/python3.10/dist-packages (from python-docx) (4.12.2)\n",
            "Downloading python_docx-1.1.2-py3-none-any.whl (244 kB)\n",
            "\u001b[2K   \u001b[90m━━━━━━━━━━━━━━━━━━━━━━━━━━━━━━━━━━━━━━━━\u001b[0m \u001b[32m244.3/244.3 kB\u001b[0m \u001b[31m5.3 MB/s\u001b[0m eta \u001b[36m0:00:00\u001b[0m\n",
            "\u001b[?25hInstalling collected packages: python-docx\n",
            "Successfully installed python-docx-1.1.2\n"
          ]
        }
      ]
    },
    {
      "cell_type": "code",
      "execution_count": 20,
      "metadata": {
        "id": "UVRDGGbEJtQd"
      },
      "outputs": [],
      "source": [
        "import requests\n",
        "from docx import Document\n",
        "import os\n",
        "\n",
        "import requests\n",
        "import os\n",
        "\n",
        "subscription_key = \"Bx8o5fKbEYA6i4si3WLIiKAwIHfgDSrInm3xlXBxlorD296vC1ZTJQQJ99AKACZoyfiXJ3w3AAAbACOGU953\"\n",
        "endpoint = 'https://api.cognitive.microsofttranslator.com/'\n",
        "location = \"brazilsouth\"\n",
        "target_language = 'pt-br'\n",
        "\n",
        "def translator_document(text, target_language):\n",
        "    path = '/translate'\n",
        "    constructed_url = endpoint + path\n",
        "\n",
        "    headers = {\n",
        "        'Ocp-Apim-Subscription-Key': subscription_key,\n",
        "        'Ocp-Apim-Subscription-Region': location,\n",
        "        'Content-type': 'application/json',\n",
        "        'X-ClientTraceId': str(os.urandom(16))\n",
        "    }\n",
        "\n",
        "    body = [{'text': text}]\n",
        "    params = {\n",
        "        'api-version': '3.0',\n",
        "        'from': 'en',\n",
        "        'to': target_language\n",
        "    }\n",
        "    request = requests.post(constructed_url, params=params, headers=headers, json=body)\n",
        "    if request.status_code != 200:\n",
        "        raise Exception(f\"Erro na API: {request.status_code}, {request.text}\")\n",
        "    response = request.json()\n",
        "    return response[0][\"translations\"][0][\"text\"]"
      ]
    },
    {
      "cell_type": "code",
      "source": [
        "def translation_text(text, target_language):\n",
        "    return f\"[{target_language}] {text}\"\n",
        "def translator_document(path, target_language):\n",
        "    document = Document(path)\n",
        "    full_text = []\n",
        "    for paragraph in document.paragraphs:\n",
        "        translated_text = translation_text(paragraph.text, target_language)\n",
        "        full_text.append(translated_text)\n",
        "    translated_document = Document()\n",
        "    for line in full_text:\n",
        "        translated_document.add_paragraph(line)\n",
        "    path_translated = path.replace(\".docx\", f\"_{target_language}.docx\")\n",
        "    translated_document.save(path_translated)\n",
        "    return path_translated\n",
        "input_file = \"/content/TalkToTheMoon.docx\"\n",
        "target_language = \"pt\"\n",
        "translated_path = translator_document(input_file, target_language)\n",
        "print(f\"Documento traduzido salvo em: {translated_path}\")"
      ],
      "metadata": {
        "colab": {
          "base_uri": "https://localhost:8080/"
        },
        "id": "sbyeB37RV8_i",
        "outputId": "009d356c-f2d6-4798-ed20-61d3711cba07"
      },
      "execution_count": 34,
      "outputs": [
        {
          "output_type": "stream",
          "name": "stdout",
          "text": [
            "Documento traduzido salvo em: /content/TalkToTheMoon_pt.docx\n"
          ]
        }
      ]
    },
    {
      "cell_type": "code",
      "source": [],
      "metadata": {
        "id": "Pasd1Trugzx7"
      },
      "execution_count": null,
      "outputs": []
    }
  ]
}